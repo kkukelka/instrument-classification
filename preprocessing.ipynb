{
 "cells": [
  {
   "cell_type": "code",
   "execution_count": 7,
   "metadata": {
    "collapsed": true
   },
   "outputs": [],
   "source": [
    "import os\n",
    "import librosa\n",
    "import librosa.display\n",
    "import numpy as np\n",
    "import matplotlib\n",
    "import matplotlib.pyplot as plt\n",
    "import matplotlib.style as ms\n",
    "ms.use('seaborn-muted')\n",
    "%matplotlib inline\n",
    "\n",
    "counter = 0\n",
    "pathAudio = \"folder_with_audio_samples\"\n",
    "files = librosa.util.find_files(pathAudio, ext=['wav']) \n",
    "files = np.asarray(files)\n",
    "for f in files: \n",
    "    y, sr = librosa.load(f, sr=12000, mono=True, duration=1)\n",
    "    S = librosa.feature.melspectrogram(y, sr=sr, n_mels=128, n_fft=2048 ,hop_length=1024)\n",
    "    log_S = librosa.power_to_db(S, ref=np.max)\n",
    "    plt.figure(figsize=(12, 4))\n",
    "    \n",
    "    # 1. this produces a well-formatted plot for your publication\n",
    "    librosa.display.specshow(log_S, sr=sr, x_axis='time', y_axis='mel')\n",
    "    plt.title('log mel-spectrogram')\n",
    "    plt.colorbar(format='%+02.0f dB')\n",
    "    plt.tight_layout()\n",
    "    plt.savefig('img_cello/cello_' + str(counter) + '.png', bbox_inches='tight')\n",
    "    \n",
    "    # 2. this produces the actual input for your CNN\n",
    "        # negative padding is used in order to only capture the actual spectrogram\n",
    "    librosa.display.specshow(log_S)\n",
    "    plt.savefig('img_cello/cello_' + str(counter) + '.png', bbox_inches='tight', pad_inches=-0.05)\n",
    "    \n",
    "    plt.close()\n",
    "    counter += 1"
   ]
  }
 ],
 "metadata": {
  "kernelspec": {
   "display_name": "Python 3",
   "language": "python",
   "name": "python3"
  },
  "language_info": {
   "codemirror_mode": {
    "name": "ipython",
    "version": 3
   },
   "file_extension": ".py",
   "mimetype": "text/x-python",
   "name": "python",
   "nbconvert_exporter": "python",
   "pygments_lexer": "ipython3",
   "version": "3.6.3"
  }
 },
 "nbformat": 4,
 "nbformat_minor": 2
}
